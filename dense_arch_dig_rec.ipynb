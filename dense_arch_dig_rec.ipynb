{
 "cells": [
  {
   "cell_type": "code",
   "execution_count": 3,
   "metadata": {
    "collapsed": true
   },
   "outputs": [],
   "source": [
    "import warnings\n",
    "warnings.filterwarnings('ignore')\n",
    "\n",
    "import numpy as np\n",
    "import pandas as pd\n",
    "import matplotlib.pyplot as plt\n",
    "import keras\n",
    "from keras.models import Sequential,model_from_json\n",
    "from keras.layers import Dense\n",
    "from keras.optimizers import RMSprop\n",
    "import pylab as plt"
   ]
  },
  {
   "cell_type": "code",
   "execution_count": 171,
   "metadata": {
    "collapsed": false
   },
   "outputs": [],
   "source": [
    "data_train = pd.read_csv('train.csv')\n",
    "data_test = pd.read_csv('test.csv')\n"
   ]
  },
  {
   "cell_type": "code",
   "execution_count": 140,
   "metadata": {
    "collapsed": false
   },
   "outputs": [
    {
     "data": {
      "text/plain": [
       "(42000,)"
      ]
     },
     "execution_count": 140,
     "metadata": {},
     "output_type": "execute_result"
    }
   ],
   "source": [
    "x_train = data_train.iloc[:,1:786]\n",
    "y_train = data_train.iloc[:,0]\n",
    "data_train.shape\n",
    "data_test.shape\n",
    "x_test = data_test\n",
    "x_train.shape\n",
    "y_train.shape"
   ]
  },
  {
   "cell_type": "markdown",
   "metadata": {},
   "source": [
    "### Model \n",
    "\n"
   ]
  },
  {
   "cell_type": "code",
   "execution_count": null,
   "metadata": {
    "collapsed": true
   },
   "outputs": [],
   "source": []
  },
  {
   "cell_type": "code",
   "execution_count": 103,
   "metadata": {
    "collapsed": false
   },
   "outputs": [
    {
     "name": "stdout",
     "output_type": "stream",
     "text": [
      "_________________________________________________________________\n",
      "Layer (type)                 Output Shape              Param #   \n",
      "=================================================================\n",
      "dense_20 (Dense)             (None, 32)                25120     \n",
      "_________________________________________________________________\n",
      "dense_21 (Dense)             (None, 32)                1056      \n",
      "_________________________________________________________________\n",
      "dense_22 (Dense)             (None, 32)                1056      \n",
      "_________________________________________________________________\n",
      "dense_23 (Dense)             (None, 10)                330       \n",
      "=================================================================\n",
      "Total params: 27,562\n",
      "Trainable params: 27,562\n",
      "Non-trainable params: 0\n",
      "_________________________________________________________________\n"
     ]
    }
   ],
   "source": [
    "num_classes=10\n",
    "first_layer_size = 32\n",
    "model = Sequential()\n",
    "model.add(Dense(first_layer_size, activation='sigmoid', input_shape=(784,)))\n",
    "model.add(Dense(32, activation='sigmoid'))\n",
    "model.add(Dense(32, activation='sigmoid'))\n",
    "model.add(Dense(num_classes, activation='softmax'))\n",
    "\n",
    "model.summary()"
   ]
  },
  {
   "cell_type": "code",
   "execution_count": 104,
   "metadata": {
    "collapsed": true
   },
   "outputs": [],
   "source": [
    "model.compile(loss='categorical_crossentropy',\n",
    "              optimizer=RMSprop(),\n",
    "              metrics=['accuracy'])"
   ]
  },
  {
   "cell_type": "code",
   "execution_count": 105,
   "metadata": {
    "collapsed": false
   },
   "outputs": [
    {
     "data": {
      "text/plain": [
       "(42000, 10)"
      ]
     },
     "execution_count": 105,
     "metadata": {},
     "output_type": "execute_result"
    }
   ],
   "source": [
    "x_train = np.matrix(x_train)\n",
    "x_test=np.matrix(x_test)\n",
    "x_train = x_train.astype('float32')\n",
    "x_test = x_test.astype('float32')\n",
    "\n",
    "# Normalize to 0 to 1 range\n",
    "x_train /= 255\n",
    "x_test /= 255\n",
    "y_train = keras.utils.to_categorical(y_train, num_classes)\n",
    "y_train.shape"
   ]
  },
  {
   "cell_type": "code",
   "execution_count": 106,
   "metadata": {
    "collapsed": false
   },
   "outputs": [
    {
     "name": "stdout",
     "output_type": "stream",
     "text": [
      "Epoch 1/10\n",
      "42000/42000 [==============================] - 8s 194us/step - loss: 1.7977 - acc: 0.5007\n",
      "Epoch 2/10\n",
      "42000/42000 [==============================] - 2s 42us/step - loss: 0.8519 - acc: 0.8081\n",
      "Epoch 3/10\n",
      "42000/42000 [==============================] - 2s 40us/step - loss: 0.5144 - acc: 0.8749\n",
      "Epoch 4/10\n",
      "42000/42000 [==============================] - 2s 40us/step - loss: 0.3867 - acc: 0.9010\n",
      "Epoch 5/10\n",
      "42000/42000 [==============================] - 2s 40us/step - loss: 0.3190 - acc: 0.9162\n",
      "Epoch 6/10\n",
      "42000/42000 [==============================] - 2s 41us/step - loss: 0.2755 - acc: 0.9264\n",
      "Epoch 7/10\n",
      "42000/42000 [==============================] - 2s 41us/step - loss: 0.2432 - acc: 0.9338\n",
      "Epoch 8/10\n",
      "42000/42000 [==============================] - 2s 42us/step - loss: 0.2189 - acc: 0.9402\n",
      "Epoch 9/10\n",
      "42000/42000 [==============================] - 2s 44us/step - loss: 0.1993 - acc: 0.9455\n",
      "Epoch 10/10\n",
      "42000/42000 [==============================] - 2s 41us/step - loss: 0.1829 - acc: 0.9494\n"
     ]
    }
   ],
   "source": [
    "history = model.fit(x_train,y_train,\n",
    "                    batch_size=128,\n",
    "                    epochs=10,\n",
    "                    verbose=1)"
   ]
  },
  {
   "cell_type": "code",
   "execution_count": 107,
   "metadata": {
    "collapsed": false
   },
   "outputs": [
    {
     "data": {
      "text/plain": [
       "array([3.5991570e-06, 9.2845265e-05, 6.2754159e-05, 1.2766030e-04,\n",
       "       4.8983864e-02, 1.0375201e-03, 5.8498055e-05, 4.0238765e-03,\n",
       "       2.7512111e-02, 9.1809726e-01], dtype=float32)"
      ]
     },
     "execution_count": 107,
     "metadata": {},
     "output_type": "execute_result"
    }
   ],
   "source": [
    "prediction = model.predict(x_test)\n",
    "\n",
    "prediction.shape\n",
    "prediction[2,:]"
   ]
  },
  {
   "cell_type": "code",
   "execution_count": 112,
   "metadata": {
    "collapsed": false
   },
   "outputs": [
    {
     "data": {
      "text/plain": [
       "array([2, 0, 9, ..., 3, 9, 2], dtype=int64)"
      ]
     },
     "execution_count": 112,
     "metadata": {},
     "output_type": "execute_result"
    }
   ],
   "source": [
    "results = np.argmax(prediction,axis = 1)\n",
    "results\n",
    "\n"
   ]
  },
  {
   "cell_type": "code",
   "execution_count": 113,
   "metadata": {
    "collapsed": false
   },
   "outputs": [],
   "source": [
    "np.savetxt('submission1.csv',np.c_[range(1,len(x_test)+1),results],delimiter=',',header='ImageId,Label',comments='',fmt='%d')"
   ]
  },
  {
   "cell_type": "code",
   "execution_count": 111,
   "metadata": {
    "collapsed": true
   },
   "outputs": [],
   "source": [
    "plt.imshow(x_test[2].reshape(28,28),cmap='gray')\n",
    "plt.show()"
   ]
  },
  {
   "cell_type": "markdown",
   "metadata": {},
   "source": [
    "### Train and Validation"
   ]
  },
  {
   "cell_type": "code",
   "execution_count": 172,
   "metadata": {
    "collapsed": false
   },
   "outputs": [
    {
     "data": {
      "text/plain": [
       "(20000,)"
      ]
     },
     "execution_count": 172,
     "metadata": {},
     "output_type": "execute_result"
    }
   ],
   "source": [
    "x_train = data_train.iloc[0:20000,1:785]\n",
    "x_valid = data_train.iloc[20000:42001 ,1:785]\n",
    "y_train = data_train.iloc[0:20000,0]\n",
    "y_valid=data_train.iloc[20000:42001 ,0]\n",
    "data_train.shape\n",
    "data_test.shape\n",
    "x_test = data_test\n",
    "x_train.shape\n",
    "y_train.shape\n"
   ]
  },
  {
   "cell_type": "code",
   "execution_count": 173,
   "metadata": {
    "collapsed": false
   },
   "outputs": [
    {
     "name": "stdout",
     "output_type": "stream",
     "text": [
      "_________________________________________________________________\n",
      "Layer (type)                 Output Shape              Param #   \n",
      "=================================================================\n",
      "dense_56 (Dense)             (None, 32)                25120     \n",
      "_________________________________________________________________\n",
      "dense_57 (Dense)             (None, 32)                1056      \n",
      "_________________________________________________________________\n",
      "dense_58 (Dense)             (None, 32)                1056      \n",
      "_________________________________________________________________\n",
      "dense_59 (Dense)             (None, 10)                330       \n",
      "=================================================================\n",
      "Total params: 27,562\n",
      "Trainable params: 27,562\n",
      "Non-trainable params: 0\n",
      "_________________________________________________________________\n"
     ]
    }
   ],
   "source": [
    "num_classes=10\n",
    "first_layer_size = 32\n",
    "model_val = Sequential()\n",
    "model_val.add(Dense(first_layer_size, activation='relu', input_shape=(784,)))\n",
    "model_val.add(Dense(32, activation='relu'))\n",
    "model_val.add(Dense(32, activation='relu'))\n",
    "model_val.add(Dense(num_classes, activation='softmax'))\n",
    "\n",
    "model_val.summary()"
   ]
  },
  {
   "cell_type": "code",
   "execution_count": 174,
   "metadata": {
    "collapsed": true
   },
   "outputs": [],
   "source": [
    "model_val.compile(loss='categorical_crossentropy',\n",
    "              optimizer=RMSprop(),\n",
    "              metrics=['accuracy'])"
   ]
  },
  {
   "cell_type": "code",
   "execution_count": 175,
   "metadata": {
    "collapsed": false
   },
   "outputs": [
    {
     "data": {
      "text/plain": [
       "(20000, 10)"
      ]
     },
     "execution_count": 175,
     "metadata": {},
     "output_type": "execute_result"
    }
   ],
   "source": [
    "x_train = np.matrix(x_train)\n",
    "x_test=np.matrix(x_test)\n",
    "x_train = x_train.astype('float32')\n",
    "x_test = x_test.astype('float32')\n",
    "\n",
    "# Normalize to 0 to 1 range\n",
    "x_train /= 255\n",
    "x_test /= 255\n",
    "y_train = keras.utils.to_categorical(y_train, num_classes)\n",
    "y_train.shape\n"
   ]
  },
  {
   "cell_type": "code",
   "execution_count": 176,
   "metadata": {
    "collapsed": false
   },
   "outputs": [
    {
     "name": "stdout",
     "output_type": "stream",
     "text": [
      "Epoch 1/10\n",
      "20000/20000 [==============================] - 9s 444us/step - loss: 0.7611 - acc: 0.7941\n",
      "Epoch 2/10\n",
      "20000/20000 [==============================] - 1s 39us/step - loss: 0.3213 - acc: 0.9080\n",
      "Epoch 3/10\n",
      "20000/20000 [==============================] - 1s 37us/step - loss: 0.2509 - acc: 0.9276\n",
      "Epoch 4/10\n",
      "20000/20000 [==============================] - 1s 40us/step - loss: 0.2102 - acc: 0.9378\n",
      "Epoch 5/10\n",
      "20000/20000 [==============================] - 1s 38us/step - loss: 0.1847 - acc: 0.9439\n",
      "Epoch 6/10\n",
      "20000/20000 [==============================] - 1s 38us/step - loss: 0.1645 - acc: 0.9517\n",
      "Epoch 7/10\n",
      "20000/20000 [==============================] - 1s 38us/step - loss: 0.1499 - acc: 0.9541\n",
      "Epoch 8/10\n",
      "20000/20000 [==============================] - 1s 38us/step - loss: 0.1340 - acc: 0.9614\n",
      "Epoch 9/10\n",
      "20000/20000 [==============================] - 1s 39us/step - loss: 0.1240 - acc: 0.9628\n",
      "Epoch 10/10\n",
      "20000/20000 [==============================] - 1s 39us/step - loss: 0.1132 - acc: 0.9662\n"
     ]
    }
   ],
   "source": [
    "history = model_val.fit(x_train,y_train,\n",
    "                    batch_size=128,\n",
    "                    epochs=10,\n",
    "                    verbose=1)"
   ]
  },
  {
   "cell_type": "code",
   "execution_count": 177,
   "metadata": {
    "collapsed": true
   },
   "outputs": [],
   "source": [
    "y_valid = keras.utils.to_categorical(y_valid, num_classes)"
   ]
  },
  {
   "cell_type": "code",
   "execution_count": 178,
   "metadata": {
    "collapsed": false
   },
   "outputs": [
    {
     "name": "stdout",
     "output_type": "stream",
     "text": [
      "Test loss: 0.22739132075959986\n",
      "Test accuracy: 0.9346818181818182\n"
     ]
    }
   ],
   "source": [
    "score = model.evaluate(x_valid, y_valid, verbose=0)\n",
    "print('Test loss:', score[0])\n",
    "print('Test accuracy:', score[1])"
   ]
  },
  {
   "cell_type": "code",
   "execution_count": null,
   "metadata": {
    "collapsed": true
   },
   "outputs": [],
   "source": []
  },
  {
   "cell_type": "code",
   "execution_count": null,
   "metadata": {
    "collapsed": true
   },
   "outputs": [],
   "source": []
  }
 ],
 "metadata": {
  "anaconda-cloud": {},
  "kernelspec": {
   "display_name": "Python [Root]",
   "language": "python",
   "name": "Python [Root]"
  },
  "language_info": {
   "codemirror_mode": {
    "name": "ipython",
    "version": 3
   },
   "file_extension": ".py",
   "mimetype": "text/x-python",
   "name": "python",
   "nbconvert_exporter": "python",
   "pygments_lexer": "ipython3",
   "version": "3.5.2"
  }
 },
 "nbformat": 4,
 "nbformat_minor": 0
}
